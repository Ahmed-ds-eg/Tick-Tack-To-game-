{
 "cells": [
  {
   "cell_type": "code",
   "execution_count": 30,
   "metadata": {},
   "outputs": [],
   "source": [
    "def board_draw (arr):\n",
    "    print (\" --- --- --- \")\n",
    "    print (\"| {} | {} | {} |\".format(arr[0],arr[1],arr[2]))\n",
    "    print (\" --- --- --- \")\n",
    "    print (\"| {} | {} | {} |\".format(arr[3],arr[4],arr[5]))\n",
    "    print (\" --- --- --- \")\n",
    "    print (\"| {} | {} | {} |\".format(arr[6],arr[7],arr[8]))\n",
    "    print (\" --- --- --- \")"
   ]
  },
  {
   "cell_type": "code",
   "execution_count": 31,
   "metadata": {},
   "outputs": [],
   "source": [
    "def input_game_X_O ():\n",
    "    symbol = ''\n",
    "    while  symbol not in [\"X\",\"O\"]:\n",
    "        symbol=input (\"Player 1 pleas check your symbol [X or O] \\n\").upper()\n",
    "    if symbol==\"X\":\n",
    "        game_symbol=[\"X\",\"O\"]\n",
    "    else:\n",
    "        game_symbol=[\"O\",\"X\"]\n",
    "    print(\"player 1 is {}\".format(game_symbol[0]))\n",
    "    print(\"player 2 is {} \".format(game_symbol[1]))\n",
    "    return game_symbol"
   ]
  },
  {
   "cell_type": "code",
   "execution_count": 32,
   "metadata": {},
   "outputs": [],
   "source": [
    "def place ():\n",
    "    while True:\n",
    "        place=int(input (\"Symbol position \\n\"))\n",
    "        if place not in range (1,len(arr)+1):\n",
    "            pass\n",
    "        else:\n",
    "            break\n",
    "               \n",
    "    return place"
   ]
  },
  {
   "cell_type": "code",
   "execution_count": 33,
   "metadata": {},
   "outputs": [],
   "source": [
    "def intiate_game ():\n",
    "    print(\"welcome to Tic Tac Toe game \\n\")\n",
    "    board_draw(arr)"
   ]
  },
  {
   "cell_type": "code",
   "execution_count": 34,
   "metadata": {},
   "outputs": [],
   "source": [
    "def choose_first_v2(game_symbol):\n",
    "    player_num= random.randint(1,2)\n",
    "    print( \"Player \"+ str(player_num)+\" is first\")\n",
    "    if player_num-1==0:\n",
    "        return game_symbol[0]\n",
    "    if player_num-1==1:\n",
    "        return game_symbol[1]"
   ]
  },
  {
   "cell_type": "code",
   "execution_count": 35,
   "metadata": {},
   "outputs": [],
   "source": [
    "def update_array (symbol,position,arr) :\n",
    "    if arr[position-1]==\" \":\n",
    "        arr[position-1]=symbol\n",
    "    else:\n",
    "        print(\"invalid place\")\n",
    "    return arr \n",
    "    "
   ]
  },
  {
   "cell_type": "code",
   "execution_count": 36,
   "metadata": {},
   "outputs": [],
   "source": [
    "def winning_fun (arr):\n",
    "    if (arr[0]==arr[1]==arr[2]==symbol or\n",
    "        arr[3]==arr[4]==arr[5]==symbol or \n",
    "        arr[6]==arr[7]==arr[8]==symbol or\n",
    "        arr[0]==arr[3]==arr[6]==symbol or\n",
    "        arr[1]==arr[4]==arr[7]==symbol or \n",
    "        arr[2]==arr[5]==arr[8]==symbol or\n",
    "        arr[0]==arr[4]==arr[8]==symbol or \n",
    "        arr[2]==arr[4]==arr[6]==symbol   ):\n",
    "        return True \n",
    "    else:\n",
    "        return False \n",
    "\n",
    "        \n",
    "    "
   ]
  },
  {
   "cell_type": "code",
   "execution_count": 37,
   "metadata": {},
   "outputs": [],
   "source": [
    "def  board_is_full (arr):\n",
    "     return (\" \" not in arr)"
   ]
  },
  {
   "cell_type": "code",
   "execution_count": 38,
   "metadata": {},
   "outputs": [],
   "source": [
    "def symbol_toggel(symbol):\n",
    "    if symbol==game_symbol[0]:\n",
    "        symbol=game_symbol[1] \n",
    "    elif symbol==game_symbol[1]:\n",
    "        symbol=game_symbol[0]\n",
    "    return symbol"
   ]
  },
  {
   "cell_type": "code",
   "execution_count": 39,
   "metadata": {},
   "outputs": [
    {
     "name": "stdout",
     "output_type": "stream",
     "text": [
      "player 2 wins\n",
      "Do you want to replay \n",
      " reply with yes or no \n",
      "no\n"
     ]
    }
   ],
   "source": [
    "import random\n",
    "import time \n",
    "arr= [\" \",\" \",\" \"\n",
    "     ,\" \",\" \",\" \"\n",
    "     ,\" \",\" \",\" \"]\n",
    "intiate_game ()\n",
    "\n",
    "\n",
    "while True:\n",
    "    game_symbol =input_game_X_O ()\n",
    "    symbol=choose_first_v2(game_symbol)\n",
    "    while True :\n",
    "        position=place()\n",
    "        arr=update_array (symbol,position,arr)\n",
    "        board_draw (arr)\n",
    "        time.sleep(2)\n",
    "        from IPython.display import clear_output\n",
    "        clear_output()\n",
    "        if (winning_fun (arr) and symbol==game_symbol[0]):\n",
    "            print(\"player 1 wins\")\n",
    "            break\n",
    "        elif (winning_fun (arr) and symbol==game_symbol[1]):\n",
    "            print(\"player 2 wins\")\n",
    "            break\n",
    "        else:\n",
    "            pass\n",
    "        if board_is_full (arr):\n",
    "            print (\"draw\")\n",
    "            break\n",
    "        symbol=symbol_toggel(symbol)\n",
    "    re=\"\"\n",
    "    while   (re!=\"yes\" and re!= \"no\"):\n",
    "        re=input(\"Do you want to replay \\n reply with yes or no \\n\")\n",
    "    if re==\"yes\":\n",
    "        arr= [\" \",\" \",\" \"\n",
    "              ,\" \",\" \",\" \"\n",
    "              ,\" \",\" \",\" \"]\n",
    "        intiate_game ()\n",
    "        game_symbol =input_game_X_O ()\n",
    "        symbol=choose_first_v2(game_symbol)\n",
    "        pass\n",
    "    if re==\"no\":\n",
    "        break\n"
   ]
  },
  {
   "cell_type": "code",
   "execution_count": 24,
   "metadata": {},
   "outputs": [
    {
     "data": {
      "text/plain": [
       "[1, 4, 7]"
      ]
     },
     "execution_count": 24,
     "metadata": {},
     "output_type": "execute_result"
    }
   ],
   "source": [
    "for in range ()"
   ]
  },
  {
   "cell_type": "code",
   "execution_count": 27,
   "metadata": {},
   "outputs": [
    {
     "data": {
      "text/plain": [
       "[1, 5, 9]"
      ]
     },
     "execution_count": 27,
     "metadata": {},
     "output_type": "execute_result"
    }
   ],
   "source": [
    "arr[0::4]"
   ]
  },
  {
   "cell_type": "code",
   "execution_count": 29,
   "metadata": {},
   "outputs": [
    {
     "data": {
      "text/plain": [
       "False"
      ]
     },
     "execution_count": 29,
     "metadata": {},
     "output_type": "execute_result"
    }
   ],
   "source": [
    "arr=[2,2,2]\n",
    "arr==2"
   ]
  },
  {
   "cell_type": "code",
   "execution_count": null,
   "metadata": {},
   "outputs": [],
   "source": []
  }
 ],
 "metadata": {
  "kernelspec": {
   "display_name": "Python 3",
   "language": "python",
   "name": "python3"
  },
  "language_info": {
   "codemirror_mode": {
    "name": "ipython",
    "version": 3
   },
   "file_extension": ".py",
   "mimetype": "text/x-python",
   "name": "python",
   "nbconvert_exporter": "python",
   "pygments_lexer": "ipython3",
   "version": "3.8.3"
  }
 },
 "nbformat": 4,
 "nbformat_minor": 4
}
